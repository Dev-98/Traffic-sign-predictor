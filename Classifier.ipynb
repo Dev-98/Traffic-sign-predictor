{
 "cells": [
  {
   "cell_type": "code",
   "execution_count": 33,
   "id": "8abff77e-9a73-493c-8767-7042fc83181c",
   "metadata": {},
   "outputs": [],
   "source": [
    "import os\n",
    "import numpy as np\n",
    "import tkinter as tk\n",
    "from tkinter import *\n",
    "import pandas as pd\n",
    "from tkinter import filedialog\n",
    "from keras.models import load_model\n",
    "import matplotlib.pyplot as plt"
   ]
  },
  {
   "cell_type": "code",
   "execution_count": 4,
   "id": "70afb557-de45-4592-ba65-f1f37e4e3335",
   "metadata": {},
   "outputs": [],
   "source": [
    "model = load_model('traffic_classifier.h5')\n",
    "\n",
    "labels = pd.read_csv('labels.csv')\n",
    "\n",
    "# print(labels[1])"
   ]
  },
  {
   "cell_type": "code",
   "execution_count": 42,
   "id": "33983f78-fa73-40c2-83ff-a7a6128e94b8",
   "metadata": {},
   "outputs": [
    {
     "name": "stdout",
     "output_type": "stream",
     "text": [
      "Beware of ice/snow\n"
     ]
    }
   ],
   "source": [
    "print(labels.iloc[30].values[1])"
   ]
  },
  {
   "cell_type": "code",
   "execution_count": 48,
   "id": "9c21ab25-1967-4443-baeb-87d2837c3c2b",
   "metadata": {},
   "outputs": [
    {
     "name": "stdout",
     "output_type": "stream",
     "text": [
      "[2]\n",
      "[8]\n",
      "[37]\n"
     ]
    }
   ],
   "source": [
    "from PIL import ImageTk,Image\n",
    "\n",
    "dev = tk.Tk()\n",
    "dev.geometry(\"800x600\")\n",
    "dev.title('Traffic-Sign Prediction')\n",
    "dev.configure()\n",
    "label = Label(dev,background='gray',font='Helvetica 15 bold')\n",
    "image_lab = Label(dev)\n",
    "\n",
    "def classify(file_path):\n",
    "    global label_packed\n",
    "    img = Image.open(file_path)\n",
    "    img = img.resize((30,30))\n",
    "    img = np.expand_dims(img,axis=0)\n",
    "    img = np.array(img)\n",
    "    # print(img.shape)\n",
    "    pred = model.predict(img)\n",
    "    pred_idx = np.argmax(pred,axis=1)\n",
    "    print(pred_idx)\n",
    "    text = labels.iloc[pred_idx[0]].values[1]\n",
    "    label.configure(foreground='white',text=text)\n",
    "    \n",
    "def classify_button(file_path):\n",
    "    classify_b=Button(dev,text=\"Classify Image\",command=lambda: classify(file_path),padx=10,pady=5)\n",
    "    classify_b.configure(background='#364156', foreground='white',font=('helvetica',10,'bold'))\n",
    "    classify_b.place(relx=0.79,rely=0.46)\n",
    "    \n",
    "def image_upload():\n",
    "    \n",
    "\n",
    "    file_path = filedialog.askopenfilename()\n",
    "    uploaded = Image.open(file_path)\n",
    "    uploaded.thumbnail(((dev.winfo_height() / 2.25),(dev.winfo_width() / 2.25)))\n",
    "    im = ImageTk.PhotoImage(uploaded)\n",
    "\n",
    "    image_lab.configure(image=im)\n",
    "    image_lab.image=im\n",
    "    label.configure(text=' ')\n",
    "    classify_button(file_path)\n",
    "\n",
    "        \n",
    "upload = Button(dev,command=image_upload,text='Upload Image',padx=10,pady=10)\n",
    "upload.configure(foreground='lime green',font='Helvetica 14 bold')\n",
    "\n",
    "upload.pack(side=BOTTOM,pady=50)\n",
    "image_lab.pack(side=BOTTOM,expand=True)\n",
    "label.pack(side=BOTTOM,expand=True)\n",
    "heading = Label(dev, text=\"Know Your Traffic Sign\",pady=20, font=('Helvetica',20,'bold'))\n",
    "heading.configure(background='aqua',foreground='#364156')\n",
    "heading.pack()\n",
    "dev.mainloop()"
   ]
  },
  {
   "cell_type": "code",
   "execution_count": 24,
   "id": "e15c0d94-dbce-4fa1-8a39-d9676f7e5826",
   "metadata": {},
   "outputs": [
    {
     "data": {
      "text/plain": [
       "'C:/Users/Dev Gupta/Desktop/Jupyter/Projects (ML-DS)/Traffic Sign pred/myData/0/00000_00000 - Copie.jpg'"
      ]
     },
     "execution_count": 24,
     "metadata": {},
     "output_type": "execute_result"
    }
   ],
   "source": [
    "filedialog.askopenfilename()"
   ]
  },
  {
   "cell_type": "code",
   "execution_count": 50,
   "id": "f8886da2-b55d-417d-95ab-e1133787dc5d",
   "metadata": {},
   "outputs": [
    {
     "name": "stderr",
     "output_type": "stream",
     "text": [
      "2022-09-03 19:32:34.443 \n",
      "  \u001b[33m\u001b[1mWarning:\u001b[0m to view this Streamlit app on a browser, run it with the following\n",
      "  command:\n",
      "\n",
      "    streamlit run C:\\Python\\Python310\\lib\\site-packages\\ipykernel_launcher.py [ARGUMENTS]\n"
     ]
    },
    {
     "data": {
      "text/plain": [
       "<module 'streamlit.uploaded_file_manager' from 'C:\\\\Python\\\\Python310\\\\lib\\\\site-packages\\\\streamlit\\\\uploaded_file_manager.py'>"
      ]
     },
     "execution_count": 50,
     "metadata": {},
     "output_type": "execute_result"
    }
   ],
   "source": []
  },
  {
   "cell_type": "code",
   "execution_count": null,
   "id": "3ed79411-c104-47dc-a72a-d56eb162ece1",
   "metadata": {},
   "outputs": [],
   "source": []
  }
 ],
 "metadata": {
  "kernelspec": {
   "display_name": "Python 3 (ipykernel)",
   "language": "python",
   "name": "python3"
  },
  "language_info": {
   "codemirror_mode": {
    "name": "ipython",
    "version": 3
   },
   "file_extension": ".py",
   "mimetype": "text/x-python",
   "name": "python",
   "nbconvert_exporter": "python",
   "pygments_lexer": "ipython3",
   "version": "3.10.2"
  }
 },
 "nbformat": 4,
 "nbformat_minor": 5
}
